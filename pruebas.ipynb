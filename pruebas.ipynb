{
 "cells": [
  {
   "cell_type": "code",
   "execution_count": 1,
   "metadata": {},
   "outputs": [],
   "source": [
    "import pandas as pd\n",
    "import numpy as np\n",
    "import test_stats as ts"
   ]
  },
  {
   "cell_type": "code",
   "execution_count": 2,
   "metadata": {},
   "outputs": [],
   "source": [
    "%load_ext autoreload\n",
    "%autoreload 2"
   ]
  },
  {
   "cell_type": "code",
   "execution_count": 29,
   "metadata": {},
   "outputs": [],
   "source": [
    "# Datos para probar las funciones\n",
    "df = pd.read_excel('25010110.xlsx',index_col='Fecha')\n",
    "df.index = pd.to_datetime(df.index)"
   ]
  },
  {
   "cell_type": "code",
   "execution_count": 61,
   "metadata": {},
   "outputs": [
    {
     "data": {
      "text/plain": [
       "(Empty DataFrame\n",
       " Columns: [Valor]\n",
       " Index: [],\n",
       "             Valor\n",
       " Fecha            \n",
       " 1980-12-31   55.0\n",
       " 1982-12-31   50.0\n",
       " 2019-12-31    0.0\n",
       " 2020-12-31   25.0)"
      ]
     },
     "execution_count": 61,
     "metadata": {},
     "output_type": "execute_result"
    }
   ],
   "source": [
    "ts.outliers(df,'Valor')"
   ]
  },
  {
   "cell_type": "code",
   "execution_count": 58,
   "metadata": {},
   "outputs": [],
   "source": [
    "# Agrega los datos de manera anual para tener lluvia acumulada\n",
    "df_resample = df.resample('YE').sum()\n",
    "#Crea una serie de datos en df_resampledata = np.array(df_resample['Valor'])\n",
    "\n",
    "# Remueve los valores que son iguales a 0\n",
    "clean_data = data[data > 0]\n",
    "log_data = np.log(clean_data) # Logaritmo natural a los datos\n",
    "n = len(log_data) # Longitud o tamaño del registro\n",
    "mean = np.mean(log_data) # Media del registro\n",
    "std_dev = np.std(log_data, ddof=1) # Desviación estandar del registro\n",
    "Kn = -3.62201 + (6.2844 * (n ** 0.25)) - (2.49835 * (n ** 0.5)) + \\\n",
    "    (0.491436 * (n ** 0.75)) - (0.037911 * n)  # Grubbs-Beck\n",
    "\n",
    "#Definición de los límites superiores e inferiores\n",
    "upper_limit = np.exp(mean + Kn * std_dev)\n",
    "lower_limit = np.exp(mean - Kn * std_dev)\n",
    "\n",
    "superior = df_resample[df_resample['Valor'] > upper_limit]\n",
    "inferior = df_resample[df_resample['Valor'] < lower_limit]"
   ]
  },
  {
   "cell_type": "code",
   "execution_count": 49,
   "metadata": {},
   "outputs": [
    {
     "data": {
      "text/plain": [
       "array([  55. ,  155. ,   50. , 1527. , 1912.5, 2082.5, 1728. , 1973. ,\n",
       "       2213. , 1570. , 1968. , 1706. , 1485. , 2112. , 1637. , 2111. ,\n",
       "       2468. , 2068. , 1865. , 2453.2, 1780. , 1315. , 2164. , 2017. ,\n",
       "       2158. , 2892.1, 2240.2, 2486. , 2265.3, 1837.6, 2280.8, 2817.3,\n",
       "       2171.8, 1694.6, 2021. , 2056. , 2134. , 2373. ,  658. ,   25. ,\n",
       "       2258. , 3225. ])"
      ]
     },
     "execution_count": 49,
     "metadata": {},
     "output_type": "execute_result"
    }
   ],
   "source": []
  }
 ],
 "metadata": {
  "kernelspec": {
   "display_name": "shi",
   "language": "python",
   "name": "python3"
  },
  "language_info": {
   "codemirror_mode": {
    "name": "ipython",
    "version": 3
   },
   "file_extension": ".py",
   "mimetype": "text/x-python",
   "name": "python",
   "nbconvert_exporter": "python",
   "pygments_lexer": "ipython3",
   "version": "3.11.8"
  }
 },
 "nbformat": 4,
 "nbformat_minor": 2
}
